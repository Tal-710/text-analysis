{
 "cells": [
  {
   "cell_type": "markdown",
   "metadata": {},
   "source": [
    "# Assignment 3 - Text Analysis\n",
    "An explanation this assignment could be found in the .pdf explanation document"
   ]
  },
  {
   "cell_type": "markdown",
   "metadata": {},
   "source": [
    "\n",
    "## Materials to review for this assignment\n",
    "<h4>From Moodle:</h4> \n",
    "<h5><u>Review the notebooks regarding the following python topics</u>:</h5>\n",
    "<div class=\"alert alert-info\">\n",
    "&#x2714; <b>Working with strings</b> (tutorial notebook)<br/>\n",
    "&#x2714; <b>Text Analysis</b> (tutorial notebook)<br/>\n",
    "&#x2714; <b>Hebrew text analysis tools (tokenizer, wordnet)</b> (moodle example)<br/>\n",
    "&#x2714; <b>(brief review) All previous notebooks</b><br/>\n",
    "</div> \n",
    "<h5><u>Review the presentations regarding the following topics</u>:</h5>\n",
    "<div class=\"alert alert-info\">\n",
    "&#x2714; <b>Text Analysis</b> (lecture presentation)<br/>\n",
    "&#x2714; <b>(brief review) All other presentations</b><br/>\n",
    "</div>"
   ]
  },
  {
   "cell_type": "markdown",
   "metadata": {},
   "source": [
    "## Personal Details:"
   ]
  },
  {
   "cell_type": "code",
   "execution_count": 1,
   "metadata": {},
   "outputs": [],
   "source": [
    "# Details Student 1:\n",
    "\n",
    "# Details Student 2:\n"
   ]
  },
  {
   "cell_type": "markdown",
   "metadata": {},
   "source": [
    "## Preceding Step - import modules (packages)\n",
    "This step is necessary in order to use external modules (packages). <br/>"
   ]
  },
  {
   "cell_type": "code",
   "execution_count": 3,
   "metadata": {},
   "outputs": [],
   "source": [
    "# --------------------------------------\n",
    "import pandas as pd\n",
    "import numpy as np\n",
    "# --------------------------------------\n",
    "\n",
    "\n",
    "# --------------------------------------\n",
    "# ------------- visualizations:\n",
    "import seaborn as sns\n",
    "import matplotlib.pyplot as plt\n",
    "from matplotlib.colors import ListedColormap\n",
    "# --------------------------------------\n",
    "\n",
    "\n",
    "# ---------------------------------------\n",
    "import sklearn\n",
    "from sklearn import preprocessing, metrics, pipeline, model_selection, feature_extraction \n",
    "from sklearn import naive_bayes, linear_model, svm, neural_network, neighbors, tree\n",
    "from sklearn import decomposition, cluster\n",
    "\n",
    "from sklearn.model_selection import train_test_split, cross_val_score, GridSearchCV \n",
    "from sklearn.pipeline import Pipeline\n",
    "from sklearn.metrics import accuracy_score, confusion_matrix\n",
    "from sklearn.metrics import precision_score, recall_score, f1_score\n",
    "from sklearn.metrics import mean_squared_error, r2_score, silhouette_score\n",
    "from sklearn.preprocessing import MinMaxScaler, StandardScaler, LabelEncoder\n",
    "\n",
    "from sklearn.svm import LinearSVC\n",
    "from sklearn.neural_network import MLPClassifier\n",
    "from sklearn.linear_model import Perceptron, SGDClassifier\n",
    "from sklearn.decomposition import PCA\n",
    "from sklearn.cluster import KMeans\n",
    "from sklearn.naive_bayes import MultinomialNB, GaussianNB\n",
    "from sklearn.neighbors import KNeighborsClassifier\n",
    "from sklearn.tree import DecisionTreeClassifier\n",
    "# ---------------------------------------\n",
    "\n",
    "\n",
    "# ----------------- output and visualizations: \n",
    "import warnings\n",
    "from sklearn.exceptions import ConvergenceWarning\n",
    "warnings.simplefilter(\"ignore\")\n",
    "warnings.simplefilter(action='ignore', category=FutureWarning)\n",
    "warnings.simplefilter(\"ignore\", category=ConvergenceWarning)\n",
    "# show several prints in one cell. This will allow us to condence every trick in one cell.\n",
    "from IPython.core.interactiveshell import InteractiveShell\n",
    "InteractiveShell.ast_node_interactivity = \"all\"\n",
    "%matplotlib inline\n",
    "pd.pandas.set_option('display.max_columns', None)\n",
    "pd.set_option('display.float_format', lambda x: '%.3f' % x)\n",
    "# ---------------------------------------"
   ]
  },
  {
   "cell_type": "markdown",
   "metadata": {},
   "source": [
    "### Text analysis and String manipulation imports:"
   ]
  },
  {
   "cell_type": "code",
   "execution_count": 8,
   "metadata": {},
   "outputs": [],
   "source": [
    "# --------------------------------------\n",
    "# --------- Text analysis and Hebrew text analysis imports:\n",
    "# vectorizers:\n",
    "from sklearn.feature_extraction import text\n",
    "from sklearn.feature_extraction.text import CountVectorizer, TfidfVectorizer\n",
    "\n",
    "# regular expressions:\n",
    "import re\n",
    "# --------------------------------------"
   ]
  },
  {
   "cell_type": "markdown",
   "metadata": {},
   "source": [
    "### (optional) Hebrew text analysis - WordNet (for Hebrew)\n",
    "Note: the WordNet is not a must"
   ]
  },
  {
   "cell_type": "markdown",
   "metadata": {},
   "source": [
    "#### (optional) Only if you didn't install Wordnet (for Hebrew) use:"
   ]
  },
  {
   "cell_type": "code",
   "execution_count": 4,
   "metadata": {},
   "outputs": [],
   "source": [
    "# word net installation:\n",
    "\n",
    "# unmark if you want to use and need to install\n",
    "# !pip install wn\n",
    "# !python -m wn download omw-he:1.4"
   ]
  },
  {
   "cell_type": "code",
   "execution_count": 5,
   "metadata": {},
   "outputs": [],
   "source": [
    "# word net import:\n",
    "\n",
    "# unmark if you want to use:\n",
    "# import wn"
   ]
  },
  {
   "cell_type": "markdown",
   "metadata": {},
   "source": [
    "### (optional) Hebrew text analysis - hebrew_tokenizer (Tokenizer for Hebrew)\n",
    "Note: the hebrew_tokenizer is not a must"
   ]
  },
  {
   "cell_type": "markdown",
   "metadata": {},
   "source": [
    "#### (optional) Only if you didn't install hebrew_tokenizer use:"
   ]
  },
  {
   "cell_type": "code",
   "execution_count": 6,
   "metadata": {},
   "outputs": [],
   "source": [
    "# Hebrew tokenizer installation:\n",
    "\n",
    "# unmark if you want to use and need to install:\n",
    "#!pip install hebrew_tokenizer"
   ]
  },
  {
   "cell_type": "code",
   "execution_count": 7,
   "metadata": {},
   "outputs": [],
   "source": [
    "# Hebrew tokenizer import:\n",
    "\n",
    "# unmark if you want to use:\n",
    "#import hebrew_tokenizer as ht"
   ]
  },
  {
   "cell_type": "markdown",
   "metadata": {},
   "source": [
    "### Reading input files\n",
    "Reading input files for train annotated corpus (raw text data) corpus and for the test corpus"
   ]
  },
  {
   "cell_type": "code",
   "execution_count": 4,
   "metadata": {},
   "outputs": [],
   "source": [
    "train_filename = 'annotated_corpus_for_train.csv'\n",
    "test_filename  = 'corpus_for_test.csv'\n",
    "df_train = pd.read_csv(train_filename, index_col=None, encoding='utf-8')\n",
    "df_test  = pd.read_csv(test_filename, index_col=None, encoding='utf-8')"
   ]
  },
  {
   "cell_type": "code",
   "execution_count": 5,
   "metadata": {},
   "outputs": [
    {
     "data": {
      "text/html": [
       "<div>\n",
       "<style scoped>\n",
       "    .dataframe tbody tr th:only-of-type {\n",
       "        vertical-align: middle;\n",
       "    }\n",
       "\n",
       "    .dataframe tbody tr th {\n",
       "        vertical-align: top;\n",
       "    }\n",
       "\n",
       "    .dataframe thead th {\n",
       "        text-align: right;\n",
       "    }\n",
       "</style>\n",
       "<table border=\"1\" class=\"dataframe\">\n",
       "  <thead>\n",
       "    <tr style=\"text-align: right;\">\n",
       "      <th></th>\n",
       "      <th>story</th>\n",
       "      <th>gender</th>\n",
       "    </tr>\n",
       "  </thead>\n",
       "  <tbody>\n",
       "    <tr>\n",
       "      <th>0</th>\n",
       "      <td>כשחבר הזמין אותי לחול, לא באמת חשבתי שזה יקרה,...</td>\n",
       "      <td>m</td>\n",
       "    </tr>\n",
       "    <tr>\n",
       "      <th>1</th>\n",
       "      <td>לפני שהתגייסתי לצבא עשיתי כל מני מיונים ליחידו...</td>\n",
       "      <td>m</td>\n",
       "    </tr>\n",
       "    <tr>\n",
       "      <th>2</th>\n",
       "      <td>מאז שהתחילו הלימודים חלומו של כל סטודנט זה הפנ...</td>\n",
       "      <td>f</td>\n",
       "    </tr>\n",
       "    <tr>\n",
       "      <th>3</th>\n",
       "      <td>כשהייתי ילד, מטוסים היה הדבר שהכי ריתק אותי. ב...</td>\n",
       "      <td>m</td>\n",
       "    </tr>\n",
       "    <tr>\n",
       "      <th>4</th>\n",
       "      <td>‏הייתי מדריכה בכפר נוער ומתאם הכפר היינו צריכי...</td>\n",
       "      <td>f</td>\n",
       "    </tr>\n",
       "    <tr>\n",
       "      <th>5</th>\n",
       "      <td>לפני כ3 חודשים טסתי לרומא למשך שבוע. טסתי במטו...</td>\n",
       "      <td>f</td>\n",
       "    </tr>\n",
       "    <tr>\n",
       "      <th>6</th>\n",
       "      <td>אני כבר שנתיים נשוי והשנה אני ואישתי סוף סוף י...</td>\n",
       "      <td>m</td>\n",
       "    </tr>\n",
       "    <tr>\n",
       "      <th>7</th>\n",
       "      <td>השנה התחלנו שיפוץ בדירה שלנו בתל אביב. הדירה ה...</td>\n",
       "      <td>f</td>\n",
       "    </tr>\n",
       "  </tbody>\n",
       "</table>\n",
       "</div>"
      ],
      "text/plain": [
       "                                               story gender\n",
       "0  כשחבר הזמין אותי לחול, לא באמת חשבתי שזה יקרה,...      m\n",
       "1  לפני שהתגייסתי לצבא עשיתי כל מני מיונים ליחידו...      m\n",
       "2  מאז שהתחילו הלימודים חלומו של כל סטודנט זה הפנ...      f\n",
       "3  כשהייתי ילד, מטוסים היה הדבר שהכי ריתק אותי. ב...      m\n",
       "4  ‏הייתי מדריכה בכפר נוער ומתאם הכפר היינו צריכי...      f\n",
       "5  לפני כ3 חודשים טסתי לרומא למשך שבוע. טסתי במטו...      f\n",
       "6  אני כבר שנתיים נשוי והשנה אני ואישתי סוף סוף י...      m\n",
       "7  השנה התחלנו שיפוץ בדירה שלנו בתל אביב. הדירה ה...      f"
      ]
     },
     "execution_count": 5,
     "metadata": {},
     "output_type": "execute_result"
    },
    {
     "data": {
      "text/plain": [
       "(753, 2)"
      ]
     },
     "execution_count": 5,
     "metadata": {},
     "output_type": "execute_result"
    }
   ],
   "source": [
    "df_train.head(8)\n",
    "df_train.shape"
   ]
  },
  {
   "cell_type": "code",
   "execution_count": 6,
   "metadata": {},
   "outputs": [
    {
     "data": {
      "text/html": [
       "<div>\n",
       "<style scoped>\n",
       "    .dataframe tbody tr th:only-of-type {\n",
       "        vertical-align: middle;\n",
       "    }\n",
       "\n",
       "    .dataframe tbody tr th {\n",
       "        vertical-align: top;\n",
       "    }\n",
       "\n",
       "    .dataframe thead th {\n",
       "        text-align: right;\n",
       "    }\n",
       "</style>\n",
       "<table border=\"1\" class=\"dataframe\">\n",
       "  <thead>\n",
       "    <tr style=\"text-align: right;\">\n",
       "      <th></th>\n",
       "      <th>test_example_id</th>\n",
       "      <th>story</th>\n",
       "    </tr>\n",
       "  </thead>\n",
       "  <tbody>\n",
       "    <tr>\n",
       "      <th>0</th>\n",
       "      <td>0</td>\n",
       "      <td>כל קיץ אני והמשפחה נוסעים לארצות הברית לוס אנג...</td>\n",
       "    </tr>\n",
       "    <tr>\n",
       "      <th>1</th>\n",
       "      <td>1</td>\n",
       "      <td>הגעתי לשירות המדינה אחרי שנתיים כפעיל בתנועת \"...</td>\n",
       "    </tr>\n",
       "    <tr>\n",
       "      <th>2</th>\n",
       "      <td>2</td>\n",
       "      <td>אחת האהבות הגדולות שלי אלו הכלבים שלי ושל אישת...</td>\n",
       "    </tr>\n",
       "  </tbody>\n",
       "</table>\n",
       "</div>"
      ],
      "text/plain": [
       "   test_example_id                                              story\n",
       "0                0  כל קיץ אני והמשפחה נוסעים לארצות הברית לוס אנג...\n",
       "1                1  הגעתי לשירות המדינה אחרי שנתיים כפעיל בתנועת \"...\n",
       "2                2  אחת האהבות הגדולות שלי אלו הכלבים שלי ושל אישת..."
      ]
     },
     "execution_count": 6,
     "metadata": {},
     "output_type": "execute_result"
    },
    {
     "data": {
      "text/plain": [
       "(323, 2)"
      ]
     },
     "execution_count": 6,
     "metadata": {},
     "output_type": "execute_result"
    }
   ],
   "source": [
    "df_test.head(3)\n",
    "df_test.shape"
   ]
  },
  {
   "cell_type": "markdown",
   "metadata": {},
   "source": [
    "### Your implementation:\n",
    "Write your code solution in the following code-cells"
   ]
  },
  {
   "cell_type": "markdown",
   "metadata": {},
   "source": [
    "# Preprocessing\n",
    "\n",
    "The preprocessing part of the text involves replacing certain characters at word endings, removing specific word prefixes and combinations, filtering out short words, and removing punctuation. This prepares the text for analysis by splitting it into words, removing unwanted characters, and ensuring meaningful word representations for further processing.\n"
   ]
  },
  {
   "cell_type": "code",
   "execution_count": 15,
   "metadata": {},
   "outputs": [
    {
     "name": "stdout",
     "output_type": "stream",
     "text": [
      "לפני שהתגייסתי לצבא עשיתי מני מיונים ליחידות מובחרות יום סיירות אותו יום אכן קיבלתי מיון ליחידה מאד מאד מיוחדת חיל הים אני כאחד שלא אוהב מיוחד מים אמרתי שאתן לזה סיכוי אנסה ללכת לראות יצא מהנסיון המעניין הזה הגענו לאיזה מקום אזור חיפה לאחר כמה דקות לבד אמרו לנו ישר להוריד הדברים ישר התחילו להריץ אותנו ממקום למקום מלמעלה למטה זחילות ריצה דרך שאפשר לדמיין השלבים הקשיים יותר היו הריצות למים לשחות שעות ארוכות להגיע ממקום למקום קבוצה יחידים אוהל שלי היו עוד שתי אנשים שאחד היה מאד מורעל להתקבל יהיר דברן רעשן הבן אדם השני היה אדם שקט נחמד מופנם שהגענו לאתר ידענו לכמה זמן אנחנו מגיעים למיונים עושים איך עושים ידענו שאנחשים הולכים הביתה תוך כדי השמועות אמרו שהמיון אמור להיות ימים לשבוע היו המון אנשים התחלה לאט לאט התחלנו להרגיש הדילול אנשים מרגע לרגע היה קיצוני היינו עושים תחרות סמויה האוהלים מבין האוהלים נשארים הכי הרבה חברי צוות אוהל היה שלושה אנשים יום אחרי יום אנשים עפים ימין שמאל אמת ראינו שאנחנו האוהל שנשאר הרכב המלא שלו התחלנו לדבר אוהל הבחור היהיר התחיל להתרברב לצחוק כולם הבחור השני אמר שזה לעניין הבחור היהיר תמיד היה אומר שהמפקדים יודעים שומעים משנה העיקר להראות להם שהם רוצים לראות להשמיע להם שהם רוצים לשמוע האמת שהיה נעים העניין הצביעות הזו אבל אני חרתי לשתוק להסכים הבחור השקט יום האחרון עמדנו כולנו אמרו לכולם הכבוד השבוע אמרו שכל שנישאר עבר מלבד שתי אנשים הייתי טוח שהאוהל שלנו קשור לזה היו אנשים שהיה ניראה שהף פחות מתאימים המפקד לפתע קורא לשתי אנשי האוהל שלי הוא אומר לפני כולם הבחור השקט הזה הוא שתול הוא חלק מצוות המפקדים הוא המפקד המפקדים הבחור שהולך הביתה הבחור השני היהיר השחצן היה כלכך מטורף שהבחור אמר המשפט שהכי אסור לומר לבן אדם שהכי אסור שהוא ישמע הדבר הזה\n"
     ]
    }
   ],
   "source": [
    "def custom_preprocessing(text):\n",
    "    # Replace characters\n",
    "    text = re.sub(r'מ\\b', 'ם', text)  # Replace 'מ' at word endings with 'ם'\n",
    "    text = re.sub(r'נ\\b', 'ן', text)  # Replace 'נ' at word endings with 'ן'\n",
    "    text = re.sub(r'פ\\b', 'ף', text)  # Replace 'פ' at word endings with 'ף'\n",
    "    text = re.sub(r'כ\\b', 'ך', text)  # Replace 'כ' at word endings with 'ך'\n",
    "    text = re.sub(r'צ\\b', 'ץ', text)  # Replace 'צ' at word endings with 'ץ'\n",
    "    \n",
    "    text = re.sub(r'\\bכש', '', text)  # Remove 'כש' from start of the word\n",
    "    text = re.sub(r'\\bלכש', '', text)  # Remove 'לכש' from start of the word\n",
    "    text = re.sub(r'\\bוש', '', text)  # Remove 'וש' from start of the word\n",
    "    text = re.sub(r'\\bב', '', text)   #Remove 'ב' from start of the word \n",
    "    text = re.sub(r'\\bו', '', text)   #Remove 'ו' from start of the word\n",
    "    \n",
    "    words = text.split()\n",
    "    #Kepp words only with length > 2 \n",
    "    words = [word for word in words if len(word) > 2]\n",
    "    \n",
    "    # Define the punctuation characters you want to remove\n",
    "    punctuation_chars = r'[.,?!$%@*()\\[\\]{}\"\\'<>:/\\\\;-]'\n",
    "\n",
    "    # Create a translation table that maps the punctuation characters to None\n",
    "    translation_table = str.maketrans(punctuation_chars, ' '*len(punctuation_chars))\n",
    "\n",
    "    # Apply the translation table to each word to remove punctuation characters\n",
    "    words = [word.translate(translation_table) for word in words]\n",
    "    \n",
    "    # Join the preprocessed words back into a string\n",
    "    processed_text = ' '.join(words)\n",
    "    \n",
    "    return processed_text\n",
    "    \n",
    "\n",
    "# Apply custom preprocessing to train and test texts\n",
    "df_train['story'] = df_train['story'].apply(custom_preprocessing)\n",
    "df_test['story'] = df_test['story'].apply(custom_preprocessing)\n",
    "\n",
    "# Print the preprocessed text of the second entry in the training dataset\n",
    "print(df_train['story'][1])\n",
    "\n",
    "\n"
   ]
  },
  {
   "cell_type": "markdown",
   "metadata": {},
   "source": [
    "# Vectorization\n",
    "\n",
    "The vectorization stage converts preprocessed text into numerical format using TF-IDF. Custom tokenizer splits text into words. X_train_tfidf and X_test_tfidf hold transformed features. IDF scores quantify word importance, seen in top and bottom word lists."
   ]
  },
  {
   "cell_type": "code",
   "execution_count": 10,
   "metadata": {},
   "outputs": [
    {
     "name": "stdout",
     "output_type": "stream",
     "text": [
      "Top 10 words with highest IDF scores:\n",
      "10k: 6.9322\n",
      "669: 6.9322\n",
      "i25: 6.9322\n",
      "mall: 6.9322\n",
      "piccolo: 6.9322\n",
      "wolt: 6.9322\n",
      "אבבה: 6.9322\n",
      "אדריכלים: 6.9322\n",
      "אובט: 6.9322\n",
      "אודישן: 6.9322\n",
      "\n",
      "Last 10 words with lowest IDF scores:\n",
      "הייתה: 1.5184\n",
      "יום: 1.5095\n",
      "הוא: 1.4985\n",
      "מאוד: 1.4942\n",
      "אבל: 1.4877\n",
      "אחד: 1.4663\n",
      "לאחר: 1.4289\n",
      "שלי: 1.2903\n",
      "אני: 1.1686\n",
      "היה: 1.1241\n",
      "\n"
     ]
    }
   ],
   "source": [
    "# Tokenization\n",
    "def custom_tokenizer(text):\n",
    "    return text.split()\n",
    "\n",
    "# Define labels\n",
    "y_train = df_train['gender']\n",
    "\n",
    "# Vectorize training data\n",
    "vectorizer = TfidfVectorizer(tokenizer=custom_tokenizer, max_features=10000)\n",
    "X_train= vectorizer.fit_transform(df_train['story'])\n",
    "\n",
    "# Vectorize test data\n",
    "X_test = vectorizer.transform(df_test['story'])\n",
    "\n",
    "# Print the top and bottom words with IDF scores\n",
    "feature_names = vectorizer.get_feature_names_out()\n",
    "idf_scores = vectorizer.idf_\n",
    "word_idf_dict = {feature_names[i]: idf_scores[i] for i in range(len(feature_names))}\n",
    "sorted_words = sorted(word_idf_dict.items(), key=lambda x: x[1], reverse=True)\n",
    "\n",
    "print(\"Top 10 words with highest IDF scores:\")\n",
    "for word, idf in sorted_words[:10]:\n",
    "    print(f\"{word}: {idf:.4f}\")\n",
    "print()\n",
    "\n",
    "print(\"Last 10 words with lowest IDF scores:\")\n",
    "for word, idf in sorted_words[-10:]:\n",
    "    print(f\"{word}: {idf:.4f}\")\n",
    "print()"
   ]
  },
  {
   "cell_type": "markdown",
   "metadata": {},
   "source": [
    "# Machine Learning and Evaluation\n",
    "\n",
    "In this phase, we're unleashing the potential of top classifiers: Naive Bayes, Decision Tree, and K-Nearest Neighbors, chosen for their diverse strengths. Each model is integrated into a pipeline, simplifying the process. By testing these models using cross-validation on preprocessed text data, we're striving for optimal performance, as measured by the F1 score. Customized hyperparameters for each model are revealed, contributing to their accuracy. The average F1 scores give us a clear view of their effectiveness in gender prediction."
   ]
  },
  {
   "cell_type": "code",
   "execution_count": 11,
   "metadata": {},
   "outputs": [
    {
     "data": {
      "text/plain": [
       "GridSearchCV(cv=10, estimator=MultinomialNB(),\n",
       "             param_grid={'alpha': [0.01, 0.1, 0.07, 0.06, 0.05, 0.5, 0.04, 1.0],\n",
       "                         'fit_prior': [True, False]},\n",
       "             scoring='f1_macro')"
      ]
     },
     "execution_count": 11,
     "metadata": {},
     "output_type": "execute_result"
    },
    {
     "data": {
      "text/plain": [
       "GridSearchCV(cv=10, estimator=DecisionTreeClassifier(),\n",
       "             param_grid={'criterion': ['gini', 'entropy'],\n",
       "                         'max_depth': [5, 10, 20, 25, 30],\n",
       "                         'min_samples_split': [2, 5, 10]},\n",
       "             scoring='f1_macro')"
      ]
     },
     "execution_count": 11,
     "metadata": {},
     "output_type": "execute_result"
    },
    {
     "data": {
      "text/plain": [
       "GridSearchCV(cv=10, estimator=KNeighborsClassifier(),\n",
       "             param_grid={'n_neighbors': [3, 5, 7, 9],\n",
       "                         'weights': ['uniform', 'distance']},\n",
       "             scoring='f1_macro')"
      ]
     },
     "execution_count": 11,
     "metadata": {},
     "output_type": "execute_result"
    },
    {
     "name": "stdout",
     "output_type": "stream",
     "text": [
      "Best Hyperparameters - Naive Bayes Classifier:\n",
      "{'alpha': 0.05, 'fit_prior': False}\n",
      "\n",
      "Average F1 Score - Naive Bayes Classifier:\n",
      "0.6450\n",
      "\n",
      "Best Hyperparameters - Decision Tree Classifier:\n",
      "{'criterion': 'gini', 'max_depth': 20, 'min_samples_split': 10}\n",
      "\n",
      "Average F1 Score - Decision Tree Classifier:\n",
      "0.6186\n",
      "\n",
      "Best Hyperparameters - K-Nearest Neighbors Classifier:\n",
      "{'n_neighbors': 5, 'weights': 'distance'}\n",
      "Average F1 Score - K-Nearest Neighbors Classifier:\n",
      "0.6038\n"
     ]
    }
   ],
   "source": [
    "# Hyperparameter tuning for Naive Bayes\n",
    "nb_model = GridSearchCV(MultinomialNB(),\n",
    "                        {'alpha': [0.01, 0.1, 0.07, 0.06, 0.05, 0.5, 0.04, 1.0], 'fit_prior': [True, False]},\n",
    "                        scoring='f1_macro', cv=10)\n",
    "nb_model.fit(X_train, y_train)\n",
    "\n",
    "# Hyperparameter tuning for Decision Tree\n",
    "dt_model = GridSearchCV(DecisionTreeClassifier(),\n",
    "                        {'criterion': ['gini', 'entropy'], 'max_depth': [5, 10, 20, 25, 30], 'min_samples_split': [2, 5, 10]},\n",
    "                        scoring='f1_macro', cv=10)\n",
    "dt_model.fit(X_train, y_train)\n",
    "\n",
    "# Hyperparameter tuning for K-Nearest Neighbors\n",
    "knn_model = GridSearchCV(KNeighborsClassifier(),\n",
    "                         {'n_neighbors': [3, 5, 7, 9], 'weights': ['uniform', 'distance']},\n",
    "                         scoring='f1_macro', cv=10)\n",
    "knn_model.fit(X_train, y_train)\n",
    "\n",
    "# Print best hyperparameters and average F1 scores\n",
    "print(\"Best Hyperparameters - Naive Bayes Classifier:\")\n",
    "print(nb_model.best_params_)\n",
    "print()\n",
    "print(\"Average F1 Score - Naive Bayes Classifier:\")\n",
    "print(f\"{nb_model.best_score_:.4f}\")\n",
    "print()\n",
    "print(\"Best Hyperparameters - Decision Tree Classifier:\")\n",
    "print(dt_model.best_params_)\n",
    "print()\n",
    "print(\"Average F1 Score - Decision Tree Classifier:\")\n",
    "print(f\"{dt_model.best_score_:.4f}\")\n",
    "print()\n",
    "print(\"Best Hyperparameters - K-Nearest Neighbors Classifier:\")\n",
    "print(knn_model.best_params_)\n",
    "print(\"Average F1 Score - K-Nearest Neighbors Classifier:\")\n",
    "print(f\"{knn_model.best_score_:.4f}\")"
   ]
  },
  {
   "cell_type": "markdown",
   "metadata": {},
   "source": [
    "# Results\n",
    "\n",
    "The Naive Bayes classifier with hyperparameters (alpha: 0.05, fit_prior: False) demonstrated the highest average F1 score of 0.6450, indicating robust performance in balancing precision and recall. Although the Decision Tree and K-Nearest Neighbors  classifiers also performed well with average F1 scores of 0.6186 and 0.6038 respectively, the Naive Bayes classifier exhibited the strongest predictive capabilities for the given task."
   ]
  },
  {
   "cell_type": "markdown",
   "metadata": {},
   "source": [
    "### Save output to csv (optional)\n",
    "After you're done save your output to the 'classification_results.csv' csv file.<br/>\n",
    "We assume that the dataframe with your results contain the following columns:\n",
    "* column 1 (left column): 'test_example_id'  - the same id associated to each of the test stories to be predicted.\n",
    "* column 2 (right column): 'predicted_category' - the predicted gender value for each of the associated story. \n",
    "\n",
    "Assuming your predicted values are in the `df_predicted` dataframe, you should save you're results as following:"
   ]
  },
  {
   "cell_type": "code",
   "execution_count": 13,
   "metadata": {},
   "outputs": [
    {
     "data": {
      "text/html": [
       "<div>\n",
       "<style scoped>\n",
       "    .dataframe tbody tr th:only-of-type {\n",
       "        vertical-align: middle;\n",
       "    }\n",
       "\n",
       "    .dataframe tbody tr th {\n",
       "        vertical-align: top;\n",
       "    }\n",
       "\n",
       "    .dataframe thead th {\n",
       "        text-align: right;\n",
       "    }\n",
       "</style>\n",
       "<table border=\"1\" class=\"dataframe\">\n",
       "  <thead>\n",
       "    <tr style=\"text-align: right;\">\n",
       "      <th></th>\n",
       "      <th>test_example_id</th>\n",
       "      <th>story</th>\n",
       "      <th>predicted_gender</th>\n",
       "    </tr>\n",
       "  </thead>\n",
       "  <tbody>\n",
       "    <tr>\n",
       "      <th>0</th>\n",
       "      <td>0</td>\n",
       "      <td>קיץ אני המשפחה נוסעים לארצות הברית לוס אנג לס ...</td>\n",
       "      <td>m</td>\n",
       "    </tr>\n",
       "    <tr>\n",
       "      <th>1</th>\n",
       "      <td>1</td>\n",
       "      <td>הגעתי לשירות המדינה אחרי שנתיים כפעיל תנועת  י...</td>\n",
       "      <td>m</td>\n",
       "    </tr>\n",
       "    <tr>\n",
       "      <th>2</th>\n",
       "      <td>2</td>\n",
       "      <td>אחת האהבות הגדולות שלי אלו הכלבים שלי אישתי  ל...</td>\n",
       "      <td>m</td>\n",
       "    </tr>\n",
       "    <tr>\n",
       "      <th>3</th>\n",
       "      <td>3</td>\n",
       "      <td>רגע הגיוס לצבא היה הרגע הכי משמעותי עבורי  אני...</td>\n",
       "      <td>m</td>\n",
       "    </tr>\n",
       "    <tr>\n",
       "      <th>4</th>\n",
       "      <td>4</td>\n",
       "      <td>אני הגעתי לברזיל ישר מקולומביה אני עשיתי עבודת...</td>\n",
       "      <td>m</td>\n",
       "    </tr>\n",
       "    <tr>\n",
       "      <th>...</th>\n",
       "      <td>...</td>\n",
       "      <td>...</td>\n",
       "      <td>...</td>\n",
       "    </tr>\n",
       "    <tr>\n",
       "      <th>318</th>\n",
       "      <td>318</td>\n",
       "      <td>שנה האחרונה הרגשתי תקוע עבודה  השגרה הפכה למשה...</td>\n",
       "      <td>m</td>\n",
       "    </tr>\n",
       "    <tr>\n",
       "      <th>319</th>\n",
       "      <td>319</td>\n",
       "      <td>אני אילן חברים טובים מזה שנה תמיד חלמנו לפתח ר...</td>\n",
       "      <td>m</td>\n",
       "    </tr>\n",
       "    <tr>\n",
       "      <th>320</th>\n",
       "      <td>320</td>\n",
       "      <td>מידי יום שישי אני נוהג לנסוע תחבורה ציבורית סת...</td>\n",
       "      <td>m</td>\n",
       "    </tr>\n",
       "    <tr>\n",
       "      <th>321</th>\n",
       "      <td>321</td>\n",
       "      <td>לפני מספר חודשים  שיא התחלואה הגל השני  עמית ש...</td>\n",
       "      <td>m</td>\n",
       "    </tr>\n",
       "    <tr>\n",
       "      <th>322</th>\n",
       "      <td>322</td>\n",
       "      <td>היום דיווחתי גניבה האוטו שלי  אחד התעוררתי איח...</td>\n",
       "      <td>m</td>\n",
       "    </tr>\n",
       "  </tbody>\n",
       "</table>\n",
       "<p>323 rows × 3 columns</p>\n",
       "</div>"
      ],
      "text/plain": [
       "     test_example_id                                              story   \n",
       "0                  0  קיץ אני המשפחה נוסעים לארצות הברית לוס אנג לס ...  \\\n",
       "1                  1  הגעתי לשירות המדינה אחרי שנתיים כפעיל תנועת  י...   \n",
       "2                  2  אחת האהבות הגדולות שלי אלו הכלבים שלי אישתי  ל...   \n",
       "3                  3  רגע הגיוס לצבא היה הרגע הכי משמעותי עבורי  אני...   \n",
       "4                  4  אני הגעתי לברזיל ישר מקולומביה אני עשיתי עבודת...   \n",
       "..               ...                                                ...   \n",
       "318              318  שנה האחרונה הרגשתי תקוע עבודה  השגרה הפכה למשה...   \n",
       "319              319  אני אילן חברים טובים מזה שנה תמיד חלמנו לפתח ר...   \n",
       "320              320  מידי יום שישי אני נוהג לנסוע תחבורה ציבורית סת...   \n",
       "321              321  לפני מספר חודשים  שיא התחלואה הגל השני  עמית ש...   \n",
       "322              322  היום דיווחתי גניבה האוטו שלי  אחד התעוררתי איח...   \n",
       "\n",
       "    predicted_gender  \n",
       "0                  m  \n",
       "1                  m  \n",
       "2                  m  \n",
       "3                  m  \n",
       "4                  m  \n",
       "..               ...  \n",
       "318                m  \n",
       "319                m  \n",
       "320                m  \n",
       "321                m  \n",
       "322                m  \n",
       "\n",
       "[323 rows x 3 columns]"
      ]
     },
     "execution_count": 13,
     "metadata": {},
     "output_type": "execute_result"
    }
   ],
   "source": [
    "# Create a copy of df_test\n",
    "predicted_df = df_test.copy()\n",
    "\n",
    "# Add the predicted gender column to predicted_df\n",
    "y_pred = nb_model.predict(X_test)\n",
    "predicted_df['predicted_gender'] = y_pred\n",
    "\n",
    "\n",
    "# Save the predictions to a CSV file\n",
    "predicted_df.to_csv('classification_results.csv', index=False)\n",
    "predicted_df\n",
    "\n"
   ]
  },
  {
   "cell_type": "code",
   "execution_count": null,
   "metadata": {},
   "outputs": [],
   "source": []
  }
 ],
 "metadata": {
  "celltoolbar": "Create Assignment",
  "kernelspec": {
   "display_name": "Python 3 (ipykernel)",
   "language": "python",
   "name": "python3"
  },
  "language_info": {
   "codemirror_mode": {
    "name": "ipython",
    "version": 3
   },
   "file_extension": ".py",
   "mimetype": "text/x-python",
   "name": "python",
   "nbconvert_exporter": "python",
   "pygments_lexer": "ipython3",
   "version": "3.9.13"
  }
 },
 "nbformat": 4,
 "nbformat_minor": 4
}
